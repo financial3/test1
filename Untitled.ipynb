{
 "cells": [
  {
   "cell_type": "code",
   "execution_count": 13,
   "metadata": {},
   "outputs": [
    {
     "name": "stdout",
     "output_type": "stream",
     "text": [
      "<re.Match object; span=(102, 114), match='800-555-5669'>\n",
      "<re.Match object; span=(281, 293), match='900-555-9340'>\n",
      "<re.Match object; span=(467, 479), match='800-555-6771'>\n"
     ]
    }
   ],
   "source": [
    "import re\n",
    "pattern = re.compile(r'[89]00[-.]\\d\\d\\d[-.]\\d\\d\\d\\d') # only pulling 800 or 900 numbers\n",
    "with open('address_data.txt','r') as f:\n",
    "    contents=f.read()\n",
    "    \n",
    "    matches=pattern.finditer(contents)\n",
    "    for match in matches:\n",
    "        print(match)"
   ]
  },
  {
   "cell_type": "code",
   "execution_count": 74,
   "metadata": {},
   "outputs": [
    {
     "name": "stdout",
     "output_type": "stream",
     "text": [
      "<re.Match object; span=(1, 24), match='CoreyMSchafer@gmail.com'>\n",
      "<re.Match object; span=(25, 53), match='corey.schafer@university.edu'>\n",
      "<re.Match object; span=(54, 83), match='corey-321-schafer@my-work.net'>\n"
     ]
    }
   ],
   "source": [
    "emails = '''\n",
    "CoreyMSchafer@gmail.com\n",
    "corey.schafer@university.edu\n",
    "corey-321-schafer@my-work.net\n",
    "'''\n",
    "\n",
    "pattern = re.compile(r'[a-zA-Z-0-9.]+@[a-zA-Z-.]+')\n",
    "matches=pattern.finditer(emails)\n",
    "for  match in matches:\n",
    "    print(match)"
   ]
  },
  {
   "cell_type": "code",
   "execution_count": 87,
   "metadata": {},
   "outputs": [
    {
     "name": "stdout",
     "output_type": "stream",
     "text": [
      "\n",
      "google.com\n",
      "coreyms.com\n",
      "youtube.com\n",
      "nasa.gov\n",
      "\n"
     ]
    }
   ],
   "source": [
    "urls = '''\n",
    "https://www.google.com\n",
    "http://coreyms.com\n",
    "https://youtube.com\n",
    "https://www.nasa.gov\n",
    "'''\n",
    "\n",
    "pattern = re.compile(r'https?://(www\\.)?(\\w+)(\\.\\w+)')\n",
    "sub_urls= pattern.sub(r'\\2\\3', urls)\n",
    "print(sub_urls)"
   ]
  },
  {
   "cell_type": "code",
   "execution_count": 92,
   "metadata": {},
   "outputs": [
    {
     "name": "stdout",
     "output_type": "stream",
     "text": [
      "100,000,000\n"
     ]
    }
   ],
   "source": [
    "x = 100000000\n",
    "print(f'{x:,}')"
   ]
  },
  {
   "cell_type": "code",
   "execution_count": 96,
   "metadata": {},
   "outputs": [
    {
     "name": "stdout",
     "output_type": "stream",
     "text": [
      "Annapolis is the capital of MD\n",
      "Richmond is the capital of VA\n",
      "sacremento is the capital of CA\n"
     ]
    }
   ],
   "source": [
    "states = ['MD', 'VA','CA']\n",
    "capitals=['Annapolis','Richmond','sacremento']\n",
    "for state, capital in zip(states, capitals):\n",
    "\tprint(f'{capital} is the capital of {state}')\n"
   ]
  },
  {
   "cell_type": "code",
   "execution_count": 102,
   "metadata": {},
   "outputs": [
    {
     "data": {
      "text/plain": [
       "1"
      ]
     },
     "execution_count": 102,
     "metadata": {},
     "output_type": "execute_result"
    }
   ],
   "source": [
    "a,b,_=(1,2,3)\n",
    "a"
   ]
  }
 ],
 "metadata": {
  "kernelspec": {
   "display_name": "Python 3",
   "language": "python",
   "name": "python3"
  },
  "language_info": {
   "codemirror_mode": {
    "name": "ipython",
    "version": 3
   },
   "file_extension": ".py",
   "mimetype": "text/x-python",
   "name": "python",
   "nbconvert_exporter": "python",
   "pygments_lexer": "ipython3",
   "version": "3.7.4"
  }
 },
 "nbformat": 4,
 "nbformat_minor": 2
}
