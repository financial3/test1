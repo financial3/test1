{
 "cells": [
  {
   "cell_type": "code",
   "execution_count": 5,
   "metadata": {},
   "outputs": [
    {
     "name": "stdout",
     "output_type": "stream",
     "text": [
      "   month  avg_high  avg_low  record_high  record_low  avg_precipitation\n",
      "0    Jan        58       42           74          22               2.95\n",
      "1    Feb        61       45           78          26               3.02\n",
      "2    Mar        65       48           84          25               2.34\n",
      "3    Apr        67       50           92          28               1.02\n",
      "4    May        71       53           98          35               0.48\n",
      "5    Jun        75       56          107          41               0.11\n",
      "6    Jul        77       58          105          44               0.00\n",
      "7    Aug        77       59          102          43               0.03\n",
      "8    Sep        77       57          103          40               0.17\n",
      "9    Oct        73       54           96          34               0.81\n",
      "10   Nov        64       48           84          30               1.70\n",
      "11   Dec        58       42           73          21               2.56\n"
     ]
    }
   ],
   "source": [
    "import numpy as np\n",
    "import pandas as pd\n",
    "\n",
    "filename='data\\weather_data.txt'\n",
    "df=pd.read_csv(filename)\n",
    "\n",
    "\n",
    "print(df)"
   ]
  },
  {
   "cell_type": "code",
   "execution_count": 41,
   "metadata": {},
   "outputs": [
    {
     "name": "stdout",
     "output_type": "stream",
     "text": [
      "   month  avg_high  avg_low  record_high  record_low  avg_precipitation\n",
      "6    Jul        77       58          105          44               0.00\n",
      "7    Aug        77       59          102          43               0.03\n",
      "5    Jun        75       56          107          41               0.11\n",
      "8    Sep        77       57          103          40               0.17\n",
      "4    May        71       53           98          35               0.48\n",
      "9    Oct        73       54           96          34               0.81\n",
      "10   Nov        64       48           84          30               1.70\n",
      "3    Apr        67       50           92          28               1.02\n",
      "1    Feb        61       45           78          26               3.02\n",
      "2    Mar        65       48           84          25               2.34\n",
      "0    Jan        58       42           74          22               2.95\n",
      "11   Dec        58       42           73          21               2.56\n"
     ]
    }
   ],
   "source": [
    "#top5rows = df.head()\n",
    "#bottom3rows=df.tail(3)\n",
    "#datatypes=df.dtypes\n",
    "#indexes= df.index\n",
    "#columns=df.columns\n",
    "#values=df.values\n",
    "\n",
    "#df.describe() --gives statistical info\n",
    "\n",
    "#sorting by one column\n",
    "#print(df.sort_values(\"record_low\", ascending=False))\n",
    "\n",
    "#sorting based on two column\n",
    "print(df.sort_values(['record_low', 'record_high'], ascending=[False,False]))\n",
    "\n",
    "\n",
    "\n"
   ]
  },
  {
   "cell_type": "code",
   "execution_count": 57,
   "metadata": {},
   "outputs": [
    {
     "name": "stdout",
     "output_type": "stream",
     "text": [
      "avg_high    73\n",
      "Name: 9, dtype: object\n"
     ]
    }
   ],
   "source": [
    "#getting one column\n",
    "#print(df['avg_high'])\n",
    "\n",
    "#getting specific columns - note two square brackets\n",
    "#print(df[['avg_high', 'avg_low']])\n",
    "\n",
    "#get specific rows\n",
    "#print(df[0:2])\n",
    "\n",
    "#All rows with specific columns\n",
    "#print(df.loc[:,['avg_high']])\n",
    "#Or specific rows\n",
    "#print(df.loc[0:4,['avg_high']])\n",
    "\n",
    "#get specific rows and columns using indexed locatio\n",
    "#print(df.iloc[0:3, [1,2]])\n",
    "\n",
    "#print(df[:, ['avg_high','avg_low']])\n",
    "\n",
    "#to get a specific cell # 9 is the row index\n",
    "print(df.loc[9,['avg_high']])\n"
   ]
  },
  {
   "cell_type": "code",
   "execution_count": null,
   "metadata": {},
   "outputs": [],
   "source": [
    "#Filtering\n",
    "#print(df[df.avg_precipitation > 1.0])\n",
    "\n",
    "# using isin\n",
    "#print(df[df['month'].isin(['Jun','Jul'])])\n",
    "\n",
    "#assign a new value to all rows of a column\n",
    "#df.loc[:,'avg_low']=np.array(5)\n",
    "\n",
    "#To add a new column to the Datamframe\n",
    "#df['test']=(df.avg_high + df.avg_low)/2\n",
    "\n",
    "#To rename a column name\n",
    "#df.rename(columns={'avg_precipitation':'avg_rain'}, inplace=True)\n",
    "\n",
    "# To replace all column names, just pass a new list\n",
    "#df.columns = ['month', 'avg_hi','avg_lo', 'rec-hi','rec-lo','avg_rain','test']\n",
    "\n",
    "#writing to a cSV file\n",
    "#df.to_csv(r'data\\test.csv')"
   ]
  },
  {
   "cell_type": "code",
   "execution_count": null,
   "metadata": {},
   "outputs": [],
   "source": [
    "pd.read_csv(r'data\\test.csv')"
   ]
  },
  {
   "cell_type": "code",
   "execution_count": 84,
   "metadata": {},
   "outputs": [
    {
     "name": "stdout",
     "output_type": "stream",
     "text": [
      "  month  avg_hi  avg_lo  rec-hi  rec-lo  avg_rain  test\n",
      "0   Jan      58       5      74      22      2.95  31.5\n",
      "1   Feb      61       5      78      26      3.02  33.0\n",
      "2   Mar      65       5      84      25      2.34  35.0\n",
      "3   Apr      67       5      92      28      1.02  36.0\n",
      "4   May      71       5      98      35      0.48  38.0\n"
     ]
    }
   ],
   "source": [
    "print(df.head())"
   ]
  },
  {
   "cell_type": "code",
   "execution_count": null,
   "metadata": {},
   "outputs": [],
   "source": []
  },
  {
   "cell_type": "code",
   "execution_count": null,
   "metadata": {},
   "outputs": [],
   "source": []
  },
  {
   "cell_type": "code",
   "execution_count": null,
   "metadata": {},
   "outputs": [],
   "source": []
  },
  {
   "cell_type": "code",
   "execution_count": 86,
   "metadata": {},
   "outputs": [
    {
     "name": "stdout",
     "output_type": "stream",
     "text": [
      "  month  avg_hi  avg_lo  rec-hi  rec-lo  avg_rain  test\n",
      "0   Jan      58       5      74      22      2.95  31.5\n",
      "1   Feb      61       5      78      26      3.02  33.0\n",
      "2   Mar      65       5      84      25      2.34  35.0\n",
      "3   Apr      67       5      92      28      1.02  36.0\n",
      "4   May      71       5      98      35      0.48  38.0\n"
     ]
    }
   ],
   "source": [
    "pd.read_csv(r'data\\test.csv')\n",
    "print(df.head())"
   ]
  },
  {
   "cell_type": "code",
   "execution_count": null,
   "metadata": {},
   "outputs": [],
   "source": []
  }
 ],
 "metadata": {
  "kernelspec": {
   "display_name": "Python 3",
   "language": "python",
   "name": "python3"
  },
  "language_info": {
   "codemirror_mode": {
    "name": "ipython",
    "version": 3
   },
   "file_extension": ".py",
   "mimetype": "text/x-python",
   "name": "python",
   "nbconvert_exporter": "python",
   "pygments_lexer": "ipython3",
   "version": "3.7.4"
  }
 },
 "nbformat": 4,
 "nbformat_minor": 2
}
