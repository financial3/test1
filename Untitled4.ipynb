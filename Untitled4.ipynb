{
 "cells": [
  {
   "cell_type": "code",
   "execution_count": null,
   "metadata": {},
   "outputs": [],
   "source": [
    "import pandas as pd\n"
   ]
  },
  {
   "cell_type": "code",
   "execution_count": 11,
   "metadata": {},
   "outputs": [],
   "source": [
    "props = pd.read_csv(\"https://first-python-notebook.readthedocs.io/_static/committees.csv\")"
   ]
  },
  {
   "cell_type": "code",
   "execution_count": null,
   "metadata": {},
   "outputs": [],
   "source": [
    "contribs = pd.read_csv(\"https://first-python-notebook.readthedocs.io/_static/contributions.csv\")"
   ]
  },
  {
   "cell_type": "code",
   "execution_count": 6,
   "metadata": {},
   "outputs": [
    {
     "ename": "NameError",
     "evalue": "name 'contrib' is not defined",
     "output_type": "error",
     "traceback": [
      "\u001b[1;31m---------------------------------------------------------------------------\u001b[0m",
      "\u001b[1;31mNameError\u001b[0m                                 Traceback (most recent call last)",
      "\u001b[1;32m<ipython-input-6-2996434fab09>\u001b[0m in \u001b[0;36m<module>\u001b[1;34m\u001b[0m\n\u001b[1;32m----> 1\u001b[1;33m \u001b[0mprint\u001b[0m\u001b[1;33m(\u001b[0m\u001b[0mcontrib\u001b[0m\u001b[1;33m.\u001b[0m\u001b[0mhead\u001b[0m\u001b[1;33m(\u001b[0m\u001b[1;33m)\u001b[0m\u001b[1;33m)\u001b[0m\u001b[1;33m\u001b[0m\u001b[1;33m\u001b[0m\u001b[0m\n\u001b[0m",
      "\u001b[1;31mNameError\u001b[0m: name 'contrib' is not defined"
     ]
    }
   ],
   "source": [
    "print(contrib.head())"
   ]
  },
  {
   "cell_type": "code",
   "execution_count": 7,
   "metadata": {},
   "outputs": [
    {
     "name": "stdout",
     "output_type": "stream",
     "text": [
      "   calaccess_committee_id                              committee_name  \\\n",
      "0                 1386560  ADULT USE CAMPAIGN FOR PROPOSITION 64; THE   \n",
      "1                 1386560  ADULT USE CAMPAIGN FOR PROPOSITION 64; THE   \n",
      "2                 1386560  ADULT USE CAMPAIGN FOR PROPOSITION 64; THE   \n",
      "3                 1386560  ADULT USE CAMPAIGN FOR PROPOSITION 64; THE   \n",
      "4                 1386560  ADULT USE CAMPAIGN FOR PROPOSITION 64; THE   \n",
      "\n",
      "   calaccess_filing_id date_received contributor_lastname  \\\n",
      "0              2083796    2016-09-18              BERGMAN   \n",
      "1              2083796    2016-09-18                KAHLE   \n",
      "2              2083796    2016-07-15             MCDEVITT   \n",
      "3              2083796    2016-08-10      WARREN-SAMARIPA   \n",
      "4              2083796    2016-07-26      WARREN-SAMARIPA   \n",
      "\n",
      "  contributor_firstname contributor_city contributor_state contributor_zip  \\\n",
      "0              GRETCHEN    SPRING VALLEY                CA           91978   \n",
      "1                 MYRNA        SAN DIEGO                CA           92109   \n",
      "2                   LEO        ESCONDIDO                CA           92025   \n",
      "3             STEPHANIE        SAN DIEGO                CA           92116   \n",
      "4             STEPHANIE        SAN DIEGO                CA           92116   \n",
      "\n",
      "        contributor_employer contributor_occupation  \\\n",
      "0                 A NEW PATH     EXECUTIVE DIRECTOR   \n",
      "1   NATIONAL SCHOOL DISTRICT                TEACHER   \n",
      "2              LIFE IONIZERS    SEO/CONTENT MANAGER   \n",
      "3  STEPHANIE WARREN SAMARIPA           ENTREPRENEUR   \n",
      "4  STEPHANIE WARREN SAMARIPA           ENTREPRENEUR   \n",
      "\n",
      "   contributor_is_self_employed  amount  \n",
      "0                         False    84.0  \n",
      "1                         False    35.0  \n",
      "2                         False   198.0  \n",
      "3                         False   -50.0  \n",
      "4                          True    50.0  \n"
     ]
    }
   ],
   "source": [
    "print(contribs.head())"
   ]
  },
  {
   "cell_type": "code",
   "execution_count": 9,
   "metadata": {},
   "outputs": [
    {
     "data": {
      "text/plain": [
       "<bound method DataFrame.info of        calaccess_committee_id  \\\n",
       "0                     1386560   \n",
       "1                     1386560   \n",
       "2                     1386560   \n",
       "3                     1386560   \n",
       "4                     1386560   \n",
       "...                       ...   \n",
       "56374                 1362973   \n",
       "56375                 1362973   \n",
       "56376                 1362973   \n",
       "56377                 1362973   \n",
       "56378                 1362973   \n",
       "\n",
       "                                          committee_name  calaccess_filing_id  \\\n",
       "0             ADULT USE CAMPAIGN FOR PROPOSITION 64; THE              2083796   \n",
       "1             ADULT USE CAMPAIGN FOR PROPOSITION 64; THE              2083796   \n",
       "2             ADULT USE CAMPAIGN FOR PROPOSITION 64; THE              2083796   \n",
       "3             ADULT USE CAMPAIGN FOR PROPOSITION 64; THE              2083796   \n",
       "4             ADULT USE CAMPAIGN FOR PROPOSITION 64; THE              2083796   \n",
       "...                                                  ...                  ...   \n",
       "56374  YES ON PROPOSITION 52 - A COALITION OF CALIFOR...              2009922   \n",
       "56375  YES ON PROPOSITION 52 - A COALITION OF CALIFOR...              2009922   \n",
       "56376  YES ON PROPOSITION 52 - A COALITION OF CALIFOR...              2033916   \n",
       "56377  YES ON PROPOSITION 52 - A COALITION OF CALIFOR...              2082752   \n",
       "56378  YES ON PROPOSITION 52 - A COALITION OF CALIFOR...              2082752   \n",
       "\n",
       "      date_received                               contributor_lastname  \\\n",
       "0        2016-09-18                                            BERGMAN   \n",
       "1        2016-09-18                                              KAHLE   \n",
       "2        2016-07-15                                           MCDEVITT   \n",
       "3        2016-08-10                                    WARREN-SAMARIPA   \n",
       "4        2016-07-26                                    WARREN-SAMARIPA   \n",
       "...             ...                                                ...   \n",
       "56374    2015-12-22             CALIFORNIA HEALTH FOUNDATION AND TRUST   \n",
       "56375    2015-12-22        CFHS HOLDINGS, INC./MARINA DEL REY HOSPITAL   \n",
       "56376    2016-01-20                                     DIGNITY HEALTH   \n",
       "56377    2016-08-01  MEMBERS' VOICE OF THE STATE BUILDING AND CONST...   \n",
       "56378    2016-08-16  CALIFORNIA HOSPITALS COMMITTEE ON ISSUES, (CHC...   \n",
       "\n",
       "      contributor_firstname contributor_city contributor_state  \\\n",
       "0                  GRETCHEN    SPRING VALLEY                CA   \n",
       "1                     MYRNA        SAN DIEGO                CA   \n",
       "2                       LEO        ESCONDIDO                CA   \n",
       "3                 STEPHANIE        SAN DIEGO                CA   \n",
       "4                 STEPHANIE        SAN DIEGO                CA   \n",
       "...                     ...              ...               ...   \n",
       "56374                   NaN       SACRAMENTO                CA   \n",
       "56375                   NaN   MARINA DEL REY                CA   \n",
       "56376                   NaN    SAN FRANCISCO                CA   \n",
       "56377                   NaN       SACRAMENTO                CA   \n",
       "56378                   NaN       SACRAMENTO                CA   \n",
       "\n",
       "      contributor_zip       contributor_employer contributor_occupation  \\\n",
       "0               91978                 A NEW PATH     EXECUTIVE DIRECTOR   \n",
       "1               92109   NATIONAL SCHOOL DISTRICT                TEACHER   \n",
       "2               92025              LIFE IONIZERS    SEO/CONTENT MANAGER   \n",
       "3               92116  STEPHANIE WARREN SAMARIPA           ENTREPRENEUR   \n",
       "4               92116  STEPHANIE WARREN SAMARIPA           ENTREPRENEUR   \n",
       "...               ...                        ...                    ...   \n",
       "56374           95814                        NaN                    NaN   \n",
       "56375           90292                        NaN                    NaN   \n",
       "56376           91107                        NaN                    NaN   \n",
       "56377           95814                        NaN                    NaN   \n",
       "56378           95814                        NaN                    NaN   \n",
       "\n",
       "       contributor_is_self_employed     amount  \n",
       "0                             False       84.0  \n",
       "1                             False       35.0  \n",
       "2                             False      198.0  \n",
       "3                             False      -50.0  \n",
       "4                              True       50.0  \n",
       "...                             ...        ...  \n",
       "56374                         False  2000000.0  \n",
       "56375                         False     4629.0  \n",
       "56376                         False  8478390.0  \n",
       "56377                         False   100000.0  \n",
       "56378                         False  1000000.0  \n",
       "\n",
       "[56379 rows x 13 columns]>"
      ]
     },
     "execution_count": 9,
     "metadata": {},
     "output_type": "execute_result"
    }
   ],
   "source": [
    "contribs.info"
   ]
  },
  {
   "cell_type": "code",
   "execution_count": 15,
   "metadata": {},
   "outputs": [
    {
     "data": {
      "text/html": [
       "<div>\n",
       "<style scoped>\n",
       "    .dataframe tbody tr th:only-of-type {\n",
       "        vertical-align: middle;\n",
       "    }\n",
       "\n",
       "    .dataframe tbody tr th {\n",
       "        vertical-align: top;\n",
       "    }\n",
       "\n",
       "    .dataframe thead th {\n",
       "        text-align: right;\n",
       "    }\n",
       "</style>\n",
       "<table border=\"1\" class=\"dataframe\">\n",
       "  <thead>\n",
       "    <tr style=\"text-align: right;\">\n",
       "      <th></th>\n",
       "      <th>index</th>\n",
       "      <th>prop_name</th>\n",
       "    </tr>\n",
       "  </thead>\n",
       "  <tbody>\n",
       "    <tr>\n",
       "      <td>0</td>\n",
       "      <td>PROPOSITION 057 - CRIMINAL SENTENCES. JUVENILE...</td>\n",
       "      <td>13</td>\n",
       "    </tr>\n",
       "    <tr>\n",
       "      <td>1</td>\n",
       "      <td>PROPOSITION 056 - CIGARETTE TAX TO FUND HEALTH...</td>\n",
       "      <td>12</td>\n",
       "    </tr>\n",
       "    <tr>\n",
       "      <td>2</td>\n",
       "      <td>PROPOSITION 064- MARIJUANA LEGALIZATION. INITI...</td>\n",
       "      <td>11</td>\n",
       "    </tr>\n",
       "    <tr>\n",
       "      <td>3</td>\n",
       "      <td>PROPOSITION 066- DEATH PENALTY. PROCEDURES. IN...</td>\n",
       "      <td>9</td>\n",
       "    </tr>\n",
       "    <tr>\n",
       "      <td>4</td>\n",
       "      <td>PROPOSITION 055 - TAX EXTENSION TO FUND EDUCAT...</td>\n",
       "      <td>8</td>\n",
       "    </tr>\n",
       "    <tr>\n",
       "      <td>5</td>\n",
       "      <td>PROPOSITION 062- DEATH PENALTY. INITIATIVE STA...</td>\n",
       "      <td>7</td>\n",
       "    </tr>\n",
       "    <tr>\n",
       "      <td>6</td>\n",
       "      <td>PROPOSITION 067- REFERENDUM TO OVERTURN BAN ON...</td>\n",
       "      <td>7</td>\n",
       "    </tr>\n",
       "    <tr>\n",
       "      <td>7</td>\n",
       "      <td>PROPOSITION 059- SB 254 (CHAPTER 20, STATUTES ...</td>\n",
       "      <td>6</td>\n",
       "    </tr>\n",
       "    <tr>\n",
       "      <td>8</td>\n",
       "      <td>PROPOSITION 054 - LEGISLATURE. LEGISLATION AND...</td>\n",
       "      <td>4</td>\n",
       "    </tr>\n",
       "    <tr>\n",
       "      <td>9</td>\n",
       "      <td>PROPOSITION 051 - SCHOOL BONDS. FUNDING FOR K-...</td>\n",
       "      <td>4</td>\n",
       "    </tr>\n",
       "    <tr>\n",
       "      <td>10</td>\n",
       "      <td>PROPOSITION 063- FIREARMS. AMMUNITION SALES. I...</td>\n",
       "      <td>4</td>\n",
       "    </tr>\n",
       "    <tr>\n",
       "      <td>11</td>\n",
       "      <td>PROPOSITION 053 - REVENUE BONDS. STATEWIDE VOT...</td>\n",
       "      <td>4</td>\n",
       "    </tr>\n",
       "    <tr>\n",
       "      <td>12</td>\n",
       "      <td>PROPOSITION 058 - SB 1174 (CHAPTER 753, STATUT...</td>\n",
       "      <td>4</td>\n",
       "    </tr>\n",
       "    <tr>\n",
       "      <td>13</td>\n",
       "      <td>PROPOSITION 052 - STATE FEES ON HOSPITALS. FED...</td>\n",
       "      <td>3</td>\n",
       "    </tr>\n",
       "    <tr>\n",
       "      <td>14</td>\n",
       "      <td>PROPOSITION 061- STATE PRESCRIPTION DRUG PURCH...</td>\n",
       "      <td>3</td>\n",
       "    </tr>\n",
       "    <tr>\n",
       "      <td>15</td>\n",
       "      <td>PROPOSITION 060- ADULT FILMS. CONDOMS. HEALTH ...</td>\n",
       "      <td>2</td>\n",
       "    </tr>\n",
       "    <tr>\n",
       "      <td>16</td>\n",
       "      <td>PROPOSITION 065- CARRY-OUT BAGS. CHARGES. INIT...</td>\n",
       "      <td>1</td>\n",
       "    </tr>\n",
       "  </tbody>\n",
       "</table>\n",
       "</div>"
      ],
      "text/plain": [
       "                                                index  prop_name\n",
       "0   PROPOSITION 057 - CRIMINAL SENTENCES. JUVENILE...         13\n",
       "1   PROPOSITION 056 - CIGARETTE TAX TO FUND HEALTH...         12\n",
       "2   PROPOSITION 064- MARIJUANA LEGALIZATION. INITI...         11\n",
       "3   PROPOSITION 066- DEATH PENALTY. PROCEDURES. IN...          9\n",
       "4   PROPOSITION 055 - TAX EXTENSION TO FUND EDUCAT...          8\n",
       "5   PROPOSITION 062- DEATH PENALTY. INITIATIVE STA...          7\n",
       "6   PROPOSITION 067- REFERENDUM TO OVERTURN BAN ON...          7\n",
       "7   PROPOSITION 059- SB 254 (CHAPTER 20, STATUTES ...          6\n",
       "8   PROPOSITION 054 - LEGISLATURE. LEGISLATION AND...          4\n",
       "9   PROPOSITION 051 - SCHOOL BONDS. FUNDING FOR K-...          4\n",
       "10  PROPOSITION 063- FIREARMS. AMMUNITION SALES. I...          4\n",
       "11  PROPOSITION 053 - REVENUE BONDS. STATEWIDE VOT...          4\n",
       "12  PROPOSITION 058 - SB 1174 (CHAPTER 753, STATUT...          4\n",
       "13  PROPOSITION 052 - STATE FEES ON HOSPITALS. FED...          3\n",
       "14  PROPOSITION 061- STATE PRESCRIPTION DRUG PURCH...          3\n",
       "15  PROPOSITION 060- ADULT FILMS. CONDOMS. HEALTH ...          2\n",
       "16  PROPOSITION 065- CARRY-OUT BAGS. CHARGES. INIT...          1"
      ]
     },
     "execution_count": 15,
     "metadata": {},
     "output_type": "execute_result"
    }
   ],
   "source": [
    "props.prop_name.value_counts().reset_index()\n"
   ]
  },
  {
   "cell_type": "code",
   "execution_count": 16,
   "metadata": {},
   "outputs": [],
   "source": [
    "my_list=[2,4,6,8]"
   ]
  },
  {
   "cell_type": "raw",
   "metadata": {},
   "source": [
    "my_list=[2,4,6,8]\n",
    "my_series = pd.Series(my_list)\n",
    "print(my_series)"
   ]
  },
  {
   "cell_type": "code",
   "execution_count": 18,
   "metadata": {},
   "outputs": [
    {
     "ename": "NameError",
     "evalue": "name 'my_series' is not defined",
     "output_type": "error",
     "traceback": [
      "\u001b[1;31m---------------------------------------------------------------------------\u001b[0m",
      "\u001b[1;31mNameError\u001b[0m                                 Traceback (most recent call last)",
      "\u001b[1;32m<ipython-input-18-2a711e25203e>\u001b[0m in \u001b[0;36m<module>\u001b[1;34m\u001b[0m\n\u001b[1;32m----> 1\u001b[1;33m \u001b[0mprint\u001b[0m\u001b[1;33m(\u001b[0m\u001b[0mmy_series\u001b[0m\u001b[1;33m)\u001b[0m\u001b[1;33m\u001b[0m\u001b[1;33m\u001b[0m\u001b[0m\n\u001b[0m",
      "\u001b[1;31mNameError\u001b[0m: name 'my_series' is not defined"
     ]
    }
   ],
   "source": [
    "print(my_series)"
   ]
  },
  {
   "cell_type": "code",
   "execution_count": 19,
   "metadata": {},
   "outputs": [
    {
     "name": "stdout",
     "output_type": "stream",
     "text": [
      "0    2\n",
      "1    4\n",
      "2    6\n",
      "3    8\n",
      "dtype: int64\n"
     ]
    }
   ],
   "source": [
    "my_list=[2,4,6,8]\n",
    "my_series = pd.Series(my_list)\n",
    "print(my_series)"
   ]
  },
  {
   "cell_type": "code",
   "execution_count": 20,
   "metadata": {},
   "outputs": [
    {
     "data": {
      "text/plain": [
       "count    4.000000\n",
       "mean     5.000000\n",
       "std      2.581989\n",
       "min      2.000000\n",
       "25%      3.500000\n",
       "50%      5.000000\n",
       "75%      6.500000\n",
       "max      8.000000\n",
       "dtype: float64"
      ]
     },
     "execution_count": 20,
     "metadata": {},
     "output_type": "execute_result"
    }
   ],
   "source": [
    "my_series.describe()\n"
   ]
  },
  {
   "cell_type": "code",
   "execution_count": 21,
   "metadata": {},
   "outputs": [
    {
     "data": {
      "text/plain": [
       "PROPOSITION 057 - CRIMINAL SENTENCES. JUVENILE CRIMINAL PROCEEDINGS AND SENTENCING. INITIATIVE CONSTITUTIONAL AMENDMENT AND STATUTE.                           13\n",
       "PROPOSITION 056 - CIGARETTE TAX TO FUND HEALTHCARE, TOBACCO USE PREVENTION, RESEARCH, AND LAW ENFORCEMENT. INITIATIVE CONSTITUTIONAL AMENDMENT AND STATUTE.    12\n",
       "PROPOSITION 064- MARIJUANA LEGALIZATION. INITIATIVE STATUTE.                                                                                                   11\n",
       "PROPOSITION 066- DEATH PENALTY. PROCEDURES. INITIATIVE STATUTE.                                                                                                 9\n",
       "PROPOSITION 055 - TAX EXTENSION TO FUND EDUCATION AND HEALTHCARE. INITIATIVE CONSTITUTIONAL AMENDMENT.                                                          8\n",
       "PROPOSITION 062- DEATH PENALTY. INITIATIVE STATUTE.                                                                                                             7\n",
       "PROPOSITION 067- REFERENDUM TO OVERTURN BAN ON SINGLE-USE PLASTIC BAGS.                                                                                         7\n",
       "PROPOSITION 059- SB 254 (CHAPTER 20, STATUTES OF 2016), ALLEN. CAMPAIGN FINANCE: VOTER INSTRUCTION                                                              6\n",
       "PROPOSITION 054 - LEGISLATURE. LEGISLATION AND PROCEEDINGS. INITIATIVE CONSTITUTIONAL AMENDMENT AND STATUTE.                                                    4\n",
       "PROPOSITION 051 - SCHOOL BONDS. FUNDING FOR K-12 SCHOOL AND COMMUNITY COLLEGE FACILITIES. INITIATIVE STATUTORY AMENDMENT.                                       4\n",
       "PROPOSITION 063- FIREARMS. AMMUNITION SALES. INTIATIVE STATUTE.                                                                                                 4\n",
       "PROPOSITION 053 - REVENUE BONDS. STATEWIDE VOTER APPROVAL. INITIATIVE CONSTITUTIONAL AMENDMENT.                                                                 4\n",
       "PROPOSITION 058 - SB 1174 (CHAPTER 753, STATUTES OF 2014), LARA. ENGLISH LANGUAGE EDUCATION                                                                     4\n",
       "PROPOSITION 052 - STATE FEES ON HOSPITALS. FEDERAL MEDI-CAL MATCHING FUNDS. INITIATIVE STATUTORY AND CONSTITUTIONAL AMENDMENT.                                  3\n",
       "PROPOSITION 061- STATE PRESCRIPTION DRUG PURCHASES. PRICING STANDARDS. INITIATIVE STATUTE.                                                                      3\n",
       "PROPOSITION 060- ADULT FILMS. CONDOMS. HEALTH REQUIREMENTS. INITIATIVE STATUTE.                                                                                 2\n",
       "PROPOSITION 065- CARRY-OUT BAGS. CHARGES. INITIATIVE STATUTE.                                                                                                   1\n",
       "Name: prop_name, dtype: int64"
      ]
     },
     "execution_count": 21,
     "metadata": {},
     "output_type": "execute_result"
    }
   ],
   "source": [
    "props.prop_name.value_counts()"
   ]
  },
  {
   "cell_type": "code",
   "execution_count": 22,
   "metadata": {},
   "outputs": [
    {
     "data": {
      "text/plain": [
       "0      False\n",
       "1      False\n",
       "2      False\n",
       "3      False\n",
       "4      False\n",
       "       ...  \n",
       "97     False\n",
       "98     False\n",
       "99     False\n",
       "100    False\n",
       "101    False\n",
       "Name: prop_name, Length: 102, dtype: bool"
      ]
     },
     "execution_count": 22,
     "metadata": {},
     "output_type": "execute_result"
    }
   ],
   "source": [
    "props.prop_name == 'PROPOSITION 064- MARIJUANA LEGALIZATION. INITIATIVE STATUTE.'"
   ]
  },
  {
   "cell_type": "code",
   "execution_count": 23,
   "metadata": {},
   "outputs": [
    {
     "data": {
      "text/html": [
       "<div>\n",
       "<style scoped>\n",
       "    .dataframe tbody tr th:only-of-type {\n",
       "        vertical-align: middle;\n",
       "    }\n",
       "\n",
       "    .dataframe tbody tr th {\n",
       "        vertical-align: top;\n",
       "    }\n",
       "\n",
       "    .dataframe thead th {\n",
       "        text-align: right;\n",
       "    }\n",
       "</style>\n",
       "<table border=\"1\" class=\"dataframe\">\n",
       "  <thead>\n",
       "    <tr style=\"text-align: right;\">\n",
       "      <th></th>\n",
       "      <th>ocd_prop_id</th>\n",
       "      <th>calaccess_prop_id</th>\n",
       "      <th>ccdc_prop_id</th>\n",
       "      <th>prop_name</th>\n",
       "      <th>ccdc_committee_id</th>\n",
       "      <th>calaccess_committee_id</th>\n",
       "      <th>committee_name</th>\n",
       "      <th>committee_position</th>\n",
       "    </tr>\n",
       "  </thead>\n",
       "  <tbody>\n",
       "    <tr>\n",
       "      <td>74</td>\n",
       "      <td>ocd-contest/232cb72c-1b11-4293-b4e2-a181e80d172e</td>\n",
       "      <td>1381868</td>\n",
       "      <td>83</td>\n",
       "      <td>PROPOSITION 064- MARIJUANA LEGALIZATION. INITI...</td>\n",
       "      <td>456</td>\n",
       "      <td>1381808</td>\n",
       "      <td>YES ON 64, CALIFORNIANS TO CONTROL, REGULATE A...</td>\n",
       "      <td>SUPPORT</td>\n",
       "    </tr>\n",
       "    <tr>\n",
       "      <td>75</td>\n",
       "      <td>ocd-contest/232cb72c-1b11-4293-b4e2-a181e80d172e</td>\n",
       "      <td>1381868</td>\n",
       "      <td>83</td>\n",
       "      <td>PROPOSITION 064- MARIJUANA LEGALIZATION. INITI...</td>\n",
       "      <td>457</td>\n",
       "      <td>1382525</td>\n",
       "      <td>NEW APPROACH PAC (MPO)</td>\n",
       "      <td>SUPPORT</td>\n",
       "    </tr>\n",
       "    <tr>\n",
       "      <td>76</td>\n",
       "      <td>ocd-contest/232cb72c-1b11-4293-b4e2-a181e80d172e</td>\n",
       "      <td>1381868</td>\n",
       "      <td>83</td>\n",
       "      <td>PROPOSITION 064- MARIJUANA LEGALIZATION. INITI...</td>\n",
       "      <td>458</td>\n",
       "      <td>1376077</td>\n",
       "      <td>CALIFORNIANS FOR SENSIBLE REFORM, SPONSORED BY...</td>\n",
       "      <td>SUPPORT</td>\n",
       "    </tr>\n",
       "    <tr>\n",
       "      <td>77</td>\n",
       "      <td>ocd-contest/232cb72c-1b11-4293-b4e2-a181e80d172e</td>\n",
       "      <td>1381868</td>\n",
       "      <td>83</td>\n",
       "      <td>PROPOSITION 064- MARIJUANA LEGALIZATION. INITI...</td>\n",
       "      <td>459</td>\n",
       "      <td>1382568</td>\n",
       "      <td>PUBLIC AND MENTAL HEALTH ADVOCATES AGAINST 64,...</td>\n",
       "      <td>OPPOSE</td>\n",
       "    </tr>\n",
       "    <tr>\n",
       "      <td>78</td>\n",
       "      <td>ocd-contest/232cb72c-1b11-4293-b4e2-a181e80d172e</td>\n",
       "      <td>1381868</td>\n",
       "      <td>83</td>\n",
       "      <td>PROPOSITION 064- MARIJUANA LEGALIZATION. INITI...</td>\n",
       "      <td>460</td>\n",
       "      <td>1371855</td>\n",
       "      <td>MARIJUANA POLICY PROJECT OF CALIFORNIA, YES ON 64</td>\n",
       "      <td>SUPPORT</td>\n",
       "    </tr>\n",
       "    <tr>\n",
       "      <td>79</td>\n",
       "      <td>ocd-contest/232cb72c-1b11-4293-b4e2-a181e80d172e</td>\n",
       "      <td>1381868</td>\n",
       "      <td>83</td>\n",
       "      <td>PROPOSITION 064- MARIJUANA LEGALIZATION. INITI...</td>\n",
       "      <td>461</td>\n",
       "      <td>1343793</td>\n",
       "      <td>CALIFORNIANS FOR RESPONSIBLE MARIJUANA REFORM,...</td>\n",
       "      <td>SUPPORT</td>\n",
       "    </tr>\n",
       "    <tr>\n",
       "      <td>80</td>\n",
       "      <td>ocd-contest/232cb72c-1b11-4293-b4e2-a181e80d172e</td>\n",
       "      <td>1381868</td>\n",
       "      <td>83</td>\n",
       "      <td>PROPOSITION 064- MARIJUANA LEGALIZATION. INITI...</td>\n",
       "      <td>462</td>\n",
       "      <td>1386560</td>\n",
       "      <td>ADULT USE CAMPAIGN FOR PROPOSITION 64; THE</td>\n",
       "      <td>SUPPORT</td>\n",
       "    </tr>\n",
       "    <tr>\n",
       "      <td>81</td>\n",
       "      <td>ocd-contest/232cb72c-1b11-4293-b4e2-a181e80d172e</td>\n",
       "      <td>1381868</td>\n",
       "      <td>83</td>\n",
       "      <td>PROPOSITION 064- MARIJUANA LEGALIZATION. INITI...</td>\n",
       "      <td>463</td>\n",
       "      <td>1387789</td>\n",
       "      <td>SAM ACTION, INC., A COMMITTEE AGAINST PROPOSIT...</td>\n",
       "      <td>OPPOSE</td>\n",
       "    </tr>\n",
       "    <tr>\n",
       "      <td>82</td>\n",
       "      <td>ocd-contest/232cb72c-1b11-4293-b4e2-a181e80d172e</td>\n",
       "      <td>1381868</td>\n",
       "      <td>83</td>\n",
       "      <td>PROPOSITION 064- MARIJUANA LEGALIZATION. INITI...</td>\n",
       "      <td>464</td>\n",
       "      <td>1385506</td>\n",
       "      <td>DRUG POLICY ACTION - NON PROFIT 501C4, YES ON ...</td>\n",
       "      <td>SUPPORT</td>\n",
       "    </tr>\n",
       "    <tr>\n",
       "      <td>83</td>\n",
       "      <td>ocd-contest/232cb72c-1b11-4293-b4e2-a181e80d172e</td>\n",
       "      <td>1381868</td>\n",
       "      <td>83</td>\n",
       "      <td>PROPOSITION 064- MARIJUANA LEGALIZATION. INITI...</td>\n",
       "      <td>465</td>\n",
       "      <td>1385745</td>\n",
       "      <td>FUND FOR POLICY REFORM (NONPROFIT 501(C)(4))</td>\n",
       "      <td>SUPPORT</td>\n",
       "    </tr>\n",
       "    <tr>\n",
       "      <td>84</td>\n",
       "      <td>ocd-contest/232cb72c-1b11-4293-b4e2-a181e80d172e</td>\n",
       "      <td>1381868</td>\n",
       "      <td>83</td>\n",
       "      <td>PROPOSITION 064- MARIJUANA LEGALIZATION. INITI...</td>\n",
       "      <td>466</td>\n",
       "      <td>1390962</td>\n",
       "      <td>MOMS STRONG AGAINST PROP 64</td>\n",
       "      <td>OPPOSE</td>\n",
       "    </tr>\n",
       "  </tbody>\n",
       "</table>\n",
       "</div>"
      ],
      "text/plain": [
       "                                         ocd_prop_id  calaccess_prop_id  \\\n",
       "74  ocd-contest/232cb72c-1b11-4293-b4e2-a181e80d172e            1381868   \n",
       "75  ocd-contest/232cb72c-1b11-4293-b4e2-a181e80d172e            1381868   \n",
       "76  ocd-contest/232cb72c-1b11-4293-b4e2-a181e80d172e            1381868   \n",
       "77  ocd-contest/232cb72c-1b11-4293-b4e2-a181e80d172e            1381868   \n",
       "78  ocd-contest/232cb72c-1b11-4293-b4e2-a181e80d172e            1381868   \n",
       "79  ocd-contest/232cb72c-1b11-4293-b4e2-a181e80d172e            1381868   \n",
       "80  ocd-contest/232cb72c-1b11-4293-b4e2-a181e80d172e            1381868   \n",
       "81  ocd-contest/232cb72c-1b11-4293-b4e2-a181e80d172e            1381868   \n",
       "82  ocd-contest/232cb72c-1b11-4293-b4e2-a181e80d172e            1381868   \n",
       "83  ocd-contest/232cb72c-1b11-4293-b4e2-a181e80d172e            1381868   \n",
       "84  ocd-contest/232cb72c-1b11-4293-b4e2-a181e80d172e            1381868   \n",
       "\n",
       "    ccdc_prop_id                                          prop_name  \\\n",
       "74            83  PROPOSITION 064- MARIJUANA LEGALIZATION. INITI...   \n",
       "75            83  PROPOSITION 064- MARIJUANA LEGALIZATION. INITI...   \n",
       "76            83  PROPOSITION 064- MARIJUANA LEGALIZATION. INITI...   \n",
       "77            83  PROPOSITION 064- MARIJUANA LEGALIZATION. INITI...   \n",
       "78            83  PROPOSITION 064- MARIJUANA LEGALIZATION. INITI...   \n",
       "79            83  PROPOSITION 064- MARIJUANA LEGALIZATION. INITI...   \n",
       "80            83  PROPOSITION 064- MARIJUANA LEGALIZATION. INITI...   \n",
       "81            83  PROPOSITION 064- MARIJUANA LEGALIZATION. INITI...   \n",
       "82            83  PROPOSITION 064- MARIJUANA LEGALIZATION. INITI...   \n",
       "83            83  PROPOSITION 064- MARIJUANA LEGALIZATION. INITI...   \n",
       "84            83  PROPOSITION 064- MARIJUANA LEGALIZATION. INITI...   \n",
       "\n",
       "    ccdc_committee_id  calaccess_committee_id  \\\n",
       "74                456                 1381808   \n",
       "75                457                 1382525   \n",
       "76                458                 1376077   \n",
       "77                459                 1382568   \n",
       "78                460                 1371855   \n",
       "79                461                 1343793   \n",
       "80                462                 1386560   \n",
       "81                463                 1387789   \n",
       "82                464                 1385506   \n",
       "83                465                 1385745   \n",
       "84                466                 1390962   \n",
       "\n",
       "                                       committee_name committee_position  \n",
       "74  YES ON 64, CALIFORNIANS TO CONTROL, REGULATE A...            SUPPORT  \n",
       "75                             NEW APPROACH PAC (MPO)            SUPPORT  \n",
       "76  CALIFORNIANS FOR SENSIBLE REFORM, SPONSORED BY...            SUPPORT  \n",
       "77  PUBLIC AND MENTAL HEALTH ADVOCATES AGAINST 64,...             OPPOSE  \n",
       "78  MARIJUANA POLICY PROJECT OF CALIFORNIA, YES ON 64            SUPPORT  \n",
       "79  CALIFORNIANS FOR RESPONSIBLE MARIJUANA REFORM,...            SUPPORT  \n",
       "80         ADULT USE CAMPAIGN FOR PROPOSITION 64; THE            SUPPORT  \n",
       "81  SAM ACTION, INC., A COMMITTEE AGAINST PROPOSIT...             OPPOSE  \n",
       "82  DRUG POLICY ACTION - NON PROFIT 501C4, YES ON ...            SUPPORT  \n",
       "83       FUND FOR POLICY REFORM (NONPROFIT 501(C)(4))            SUPPORT  \n",
       "84                        MOMS STRONG AGAINST PROP 64             OPPOSE  "
      ]
     },
     "execution_count": 23,
     "metadata": {},
     "output_type": "execute_result"
    }
   ],
   "source": [
    "props[props.prop_name == 'PROPOSITION 064- MARIJUANA LEGALIZATION. INITIATIVE STATUTE.']\n"
   ]
  },
  {
   "cell_type": "code",
   "execution_count": 24,
   "metadata": {},
   "outputs": [],
   "source": [
    "prop = props[props.prop_name == 'PROPOSITION 064- MARIJUANA LEGALIZATION. INITIATIVE STATUTE.']"
   ]
  },
  {
   "cell_type": "code",
   "execution_count": 26,
   "metadata": {},
   "outputs": [
    {
     "name": "stdout",
     "output_type": "stream",
     "text": [
      "<class 'pandas.core.frame.DataFrame'>\n",
      "Int64Index: 11 entries, 74 to 84\n",
      "Data columns (total 8 columns):\n",
      "ocd_prop_id               11 non-null object\n",
      "calaccess_prop_id         11 non-null int64\n",
      "ccdc_prop_id              11 non-null int64\n",
      "prop_name                 11 non-null object\n",
      "ccdc_committee_id         11 non-null int64\n",
      "calaccess_committee_id    11 non-null int64\n",
      "committee_name            11 non-null object\n",
      "committee_position        11 non-null object\n",
      "dtypes: int64(4), object(4)\n",
      "memory usage: 792.0+ bytes\n"
     ]
    }
   ],
   "source": [
    "prop.info()"
   ]
  },
  {
   "cell_type": "code",
   "execution_count": 27,
   "metadata": {},
   "outputs": [
    {
     "data": {
      "text/plain": [
       "<bound method DataFrame.info of                                           ocd_prop_id  calaccess_prop_id  \\\n",
       "0    ocd-contest/b51dc64d-3562-4913-a190-69f5088c22a6            1376258   \n",
       "1    ocd-contest/b51dc64d-3562-4913-a190-69f5088c22a6            1376258   \n",
       "2    ocd-contest/b51dc64d-3562-4913-a190-69f5088c22a6            1376258   \n",
       "3    ocd-contest/b51dc64d-3562-4913-a190-69f5088c22a6            1376258   \n",
       "4    ocd-contest/85990193-9d6f-4600-b8e7-bf1317841d82            1362198   \n",
       "..                                                ...                ...   \n",
       "97   ocd-contest/7495cdbe-1aa7-4c26-9a55-aa4130347b95            1372638   \n",
       "98   ocd-contest/7495cdbe-1aa7-4c26-9a55-aa4130347b95            1372638   \n",
       "99   ocd-contest/7495cdbe-1aa7-4c26-9a55-aa4130347b95            1372638   \n",
       "100  ocd-contest/7495cdbe-1aa7-4c26-9a55-aa4130347b95            1372638   \n",
       "101  ocd-contest/7495cdbe-1aa7-4c26-9a55-aa4130347b95            1372638   \n",
       "\n",
       "     ccdc_prop_id                                          prop_name  \\\n",
       "0              70  PROPOSITION 051 - SCHOOL BONDS. FUNDING FOR K-...   \n",
       "1              70  PROPOSITION 051 - SCHOOL BONDS. FUNDING FOR K-...   \n",
       "2              70  PROPOSITION 051 - SCHOOL BONDS. FUNDING FOR K-...   \n",
       "3              70  PROPOSITION 051 - SCHOOL BONDS. FUNDING FOR K-...   \n",
       "4              71  PROPOSITION 052 - STATE FEES ON HOSPITALS. FED...   \n",
       "..            ...                                                ...   \n",
       "97             86  PROPOSITION 067- REFERENDUM TO OVERTURN BAN ON...   \n",
       "98             86  PROPOSITION 067- REFERENDUM TO OVERTURN BAN ON...   \n",
       "99             86  PROPOSITION 067- REFERENDUM TO OVERTURN BAN ON...   \n",
       "100            86  PROPOSITION 067- REFERENDUM TO OVERTURN BAN ON...   \n",
       "101            86  PROPOSITION 067- REFERENDUM TO OVERTURN BAN ON...   \n",
       "\n",
       "     ccdc_committee_id  calaccess_committee_id  \\\n",
       "0                  382                 1374469   \n",
       "1                  383                 1220380   \n",
       "2                  384                 1282321   \n",
       "3                  385                 1382843   \n",
       "4                  386                 1362973   \n",
       "..                 ...                     ...   \n",
       "97                 479                 1329332   \n",
       "98                 480                 1374885   \n",
       "99                 481                 1346973   \n",
       "100                482                 1381938   \n",
       "101                483                 1389817   \n",
       "\n",
       "                                        committee_name committee_position  \n",
       "0    YES ON PROPOSITION 51 - CALIFORNIANS FOR QUALI...            SUPPORT  \n",
       "1    COMMUNITY COLLEGE FACILITY COALITION ISSUES CO...            SUPPORT  \n",
       "2    TORLAKSON'S INVEST IN CALIFORNIA A BALLOT MEAS...            SUPPORT  \n",
       "3    CALIFORNIA TAXPAYERS AND EDUCATORS OPPOSED TO ...             OPPOSE  \n",
       "4    YES ON PROPOSITION 52 - A COALITION OF CALIFOR...            SUPPORT  \n",
       "..                                                 ...                ...  \n",
       "97   SAVE THE BAG BAN, YES ON 67, SPONSORED BY ENVI...            SUPPORT  \n",
       "98   YES ON 67 - CALIFORNIANS AGAINST WASTE - PROTE...            SUPPORT  \n",
       "99   CALIFORNIA GROCERS ASSOCIATION ISSUES COMMITTE...            SUPPORT  \n",
       "100      SAVE THE BAY ACTION FUND PAC - YES ON PROP 67            SUPPORT  \n",
       "101  SAVE THE BAY ACTION FUND COMMITTEE TO SUPPORT ...            SUPPORT  \n",
       "\n",
       "[102 rows x 8 columns]>"
      ]
     },
     "execution_count": 27,
     "metadata": {},
     "output_type": "execute_result"
    }
   ],
   "source": [
    "props.info\n"
   ]
  },
  {
   "cell_type": "code",
   "execution_count": 28,
   "metadata": {},
   "outputs": [
    {
     "data": {
      "text/html": [
       "<div>\n",
       "<style scoped>\n",
       "    .dataframe tbody tr th:only-of-type {\n",
       "        vertical-align: middle;\n",
       "    }\n",
       "\n",
       "    .dataframe tbody tr th {\n",
       "        vertical-align: top;\n",
       "    }\n",
       "\n",
       "    .dataframe thead th {\n",
       "        text-align: right;\n",
       "    }\n",
       "</style>\n",
       "<table border=\"1\" class=\"dataframe\">\n",
       "  <thead>\n",
       "    <tr style=\"text-align: right;\">\n",
       "      <th></th>\n",
       "      <th>ocd_prop_id</th>\n",
       "      <th>calaccess_prop_id</th>\n",
       "      <th>ccdc_prop_id</th>\n",
       "      <th>prop_name</th>\n",
       "      <th>ccdc_committee_id</th>\n",
       "      <th>calaccess_committee_id</th>\n",
       "      <th>committee_name</th>\n",
       "      <th>committee_position</th>\n",
       "    </tr>\n",
       "  </thead>\n",
       "  <tbody>\n",
       "    <tr>\n",
       "      <td>0</td>\n",
       "      <td>ocd-contest/b51dc64d-3562-4913-a190-69f5088c22a6</td>\n",
       "      <td>1376258</td>\n",
       "      <td>70</td>\n",
       "      <td>PROPOSITION 051 - SCHOOL BONDS. FUNDING FOR K-...</td>\n",
       "      <td>382</td>\n",
       "      <td>1374469</td>\n",
       "      <td>YES ON PROPOSITION 51 - CALIFORNIANS FOR QUALI...</td>\n",
       "      <td>SUPPORT</td>\n",
       "    </tr>\n",
       "    <tr>\n",
       "      <td>1</td>\n",
       "      <td>ocd-contest/b51dc64d-3562-4913-a190-69f5088c22a6</td>\n",
       "      <td>1376258</td>\n",
       "      <td>70</td>\n",
       "      <td>PROPOSITION 051 - SCHOOL BONDS. FUNDING FOR K-...</td>\n",
       "      <td>383</td>\n",
       "      <td>1220380</td>\n",
       "      <td>COMMUNITY COLLEGE FACILITY COALITION ISSUES CO...</td>\n",
       "      <td>SUPPORT</td>\n",
       "    </tr>\n",
       "    <tr>\n",
       "      <td>2</td>\n",
       "      <td>ocd-contest/b51dc64d-3562-4913-a190-69f5088c22a6</td>\n",
       "      <td>1376258</td>\n",
       "      <td>70</td>\n",
       "      <td>PROPOSITION 051 - SCHOOL BONDS. FUNDING FOR K-...</td>\n",
       "      <td>384</td>\n",
       "      <td>1282321</td>\n",
       "      <td>TORLAKSON'S INVEST IN CALIFORNIA A BALLOT MEAS...</td>\n",
       "      <td>SUPPORT</td>\n",
       "    </tr>\n",
       "    <tr>\n",
       "      <td>3</td>\n",
       "      <td>ocd-contest/b51dc64d-3562-4913-a190-69f5088c22a6</td>\n",
       "      <td>1376258</td>\n",
       "      <td>70</td>\n",
       "      <td>PROPOSITION 051 - SCHOOL BONDS. FUNDING FOR K-...</td>\n",
       "      <td>385</td>\n",
       "      <td>1382843</td>\n",
       "      <td>CALIFORNIA TAXPAYERS AND EDUCATORS OPPOSED TO ...</td>\n",
       "      <td>OPPOSE</td>\n",
       "    </tr>\n",
       "    <tr>\n",
       "      <td>4</td>\n",
       "      <td>ocd-contest/85990193-9d6f-4600-b8e7-bf1317841d82</td>\n",
       "      <td>1362198</td>\n",
       "      <td>71</td>\n",
       "      <td>PROPOSITION 052 - STATE FEES ON HOSPITALS. FED...</td>\n",
       "      <td>386</td>\n",
       "      <td>1362973</td>\n",
       "      <td>YES ON PROPOSITION 52 - A COALITION OF CALIFOR...</td>\n",
       "      <td>SUPPORT</td>\n",
       "    </tr>\n",
       "  </tbody>\n",
       "</table>\n",
       "</div>"
      ],
      "text/plain": [
       "                                        ocd_prop_id  calaccess_prop_id  \\\n",
       "0  ocd-contest/b51dc64d-3562-4913-a190-69f5088c22a6            1376258   \n",
       "1  ocd-contest/b51dc64d-3562-4913-a190-69f5088c22a6            1376258   \n",
       "2  ocd-contest/b51dc64d-3562-4913-a190-69f5088c22a6            1376258   \n",
       "3  ocd-contest/b51dc64d-3562-4913-a190-69f5088c22a6            1376258   \n",
       "4  ocd-contest/85990193-9d6f-4600-b8e7-bf1317841d82            1362198   \n",
       "\n",
       "   ccdc_prop_id                                          prop_name  \\\n",
       "0            70  PROPOSITION 051 - SCHOOL BONDS. FUNDING FOR K-...   \n",
       "1            70  PROPOSITION 051 - SCHOOL BONDS. FUNDING FOR K-...   \n",
       "2            70  PROPOSITION 051 - SCHOOL BONDS. FUNDING FOR K-...   \n",
       "3            70  PROPOSITION 051 - SCHOOL BONDS. FUNDING FOR K-...   \n",
       "4            71  PROPOSITION 052 - STATE FEES ON HOSPITALS. FED...   \n",
       "\n",
       "   ccdc_committee_id  calaccess_committee_id  \\\n",
       "0                382                 1374469   \n",
       "1                383                 1220380   \n",
       "2                384                 1282321   \n",
       "3                385                 1382843   \n",
       "4                386                 1362973   \n",
       "\n",
       "                                      committee_name committee_position  \n",
       "0  YES ON PROPOSITION 51 - CALIFORNIANS FOR QUALI...            SUPPORT  \n",
       "1  COMMUNITY COLLEGE FACILITY COALITION ISSUES CO...            SUPPORT  \n",
       "2  TORLAKSON'S INVEST IN CALIFORNIA A BALLOT MEAS...            SUPPORT  \n",
       "3  CALIFORNIA TAXPAYERS AND EDUCATORS OPPOSED TO ...             OPPOSE  \n",
       "4  YES ON PROPOSITION 52 - A COALITION OF CALIFOR...            SUPPORT  "
      ]
     },
     "execution_count": 28,
     "metadata": {},
     "output_type": "execute_result"
    }
   ],
   "source": [
    "props.head()\n"
   ]
  },
  {
   "cell_type": "code",
   "execution_count": 29,
   "metadata": {},
   "outputs": [
    {
     "data": {
      "text/html": [
       "<div>\n",
       "<style scoped>\n",
       "    .dataframe tbody tr th:only-of-type {\n",
       "        vertical-align: middle;\n",
       "    }\n",
       "\n",
       "    .dataframe tbody tr th {\n",
       "        vertical-align: top;\n",
       "    }\n",
       "\n",
       "    .dataframe thead th {\n",
       "        text-align: right;\n",
       "    }\n",
       "</style>\n",
       "<table border=\"1\" class=\"dataframe\">\n",
       "  <thead>\n",
       "    <tr style=\"text-align: right;\">\n",
       "      <th></th>\n",
       "      <th>calaccess_committee_id</th>\n",
       "      <th>committee_name</th>\n",
       "      <th>calaccess_filing_id</th>\n",
       "      <th>date_received</th>\n",
       "      <th>contributor_lastname</th>\n",
       "      <th>contributor_firstname</th>\n",
       "      <th>contributor_city</th>\n",
       "      <th>contributor_state</th>\n",
       "      <th>contributor_zip</th>\n",
       "      <th>contributor_employer</th>\n",
       "      <th>contributor_occupation</th>\n",
       "      <th>contributor_is_self_employed</th>\n",
       "      <th>amount</th>\n",
       "    </tr>\n",
       "  </thead>\n",
       "  <tbody>\n",
       "    <tr>\n",
       "      <td>0</td>\n",
       "      <td>1386560</td>\n",
       "      <td>ADULT USE CAMPAIGN FOR PROPOSITION 64; THE</td>\n",
       "      <td>2083796</td>\n",
       "      <td>2016-09-18</td>\n",
       "      <td>BERGMAN</td>\n",
       "      <td>GRETCHEN</td>\n",
       "      <td>SPRING VALLEY</td>\n",
       "      <td>CA</td>\n",
       "      <td>91978</td>\n",
       "      <td>A NEW PATH</td>\n",
       "      <td>EXECUTIVE DIRECTOR</td>\n",
       "      <td>False</td>\n",
       "      <td>84.0</td>\n",
       "    </tr>\n",
       "    <tr>\n",
       "      <td>1</td>\n",
       "      <td>1386560</td>\n",
       "      <td>ADULT USE CAMPAIGN FOR PROPOSITION 64; THE</td>\n",
       "      <td>2083796</td>\n",
       "      <td>2016-09-18</td>\n",
       "      <td>KAHLE</td>\n",
       "      <td>MYRNA</td>\n",
       "      <td>SAN DIEGO</td>\n",
       "      <td>CA</td>\n",
       "      <td>92109</td>\n",
       "      <td>NATIONAL SCHOOL DISTRICT</td>\n",
       "      <td>TEACHER</td>\n",
       "      <td>False</td>\n",
       "      <td>35.0</td>\n",
       "    </tr>\n",
       "    <tr>\n",
       "      <td>2</td>\n",
       "      <td>1386560</td>\n",
       "      <td>ADULT USE CAMPAIGN FOR PROPOSITION 64; THE</td>\n",
       "      <td>2083796</td>\n",
       "      <td>2016-07-15</td>\n",
       "      <td>MCDEVITT</td>\n",
       "      <td>LEO</td>\n",
       "      <td>ESCONDIDO</td>\n",
       "      <td>CA</td>\n",
       "      <td>92025</td>\n",
       "      <td>LIFE IONIZERS</td>\n",
       "      <td>SEO/CONTENT MANAGER</td>\n",
       "      <td>False</td>\n",
       "      <td>198.0</td>\n",
       "    </tr>\n",
       "    <tr>\n",
       "      <td>3</td>\n",
       "      <td>1386560</td>\n",
       "      <td>ADULT USE CAMPAIGN FOR PROPOSITION 64; THE</td>\n",
       "      <td>2083796</td>\n",
       "      <td>2016-08-10</td>\n",
       "      <td>WARREN-SAMARIPA</td>\n",
       "      <td>STEPHANIE</td>\n",
       "      <td>SAN DIEGO</td>\n",
       "      <td>CA</td>\n",
       "      <td>92116</td>\n",
       "      <td>STEPHANIE WARREN SAMARIPA</td>\n",
       "      <td>ENTREPRENEUR</td>\n",
       "      <td>False</td>\n",
       "      <td>-50.0</td>\n",
       "    </tr>\n",
       "    <tr>\n",
       "      <td>4</td>\n",
       "      <td>1386560</td>\n",
       "      <td>ADULT USE CAMPAIGN FOR PROPOSITION 64; THE</td>\n",
       "      <td>2083796</td>\n",
       "      <td>2016-07-26</td>\n",
       "      <td>WARREN-SAMARIPA</td>\n",
       "      <td>STEPHANIE</td>\n",
       "      <td>SAN DIEGO</td>\n",
       "      <td>CA</td>\n",
       "      <td>92116</td>\n",
       "      <td>STEPHANIE WARREN SAMARIPA</td>\n",
       "      <td>ENTREPRENEUR</td>\n",
       "      <td>True</td>\n",
       "      <td>50.0</td>\n",
       "    </tr>\n",
       "  </tbody>\n",
       "</table>\n",
       "</div>"
      ],
      "text/plain": [
       "   calaccess_committee_id                              committee_name  \\\n",
       "0                 1386560  ADULT USE CAMPAIGN FOR PROPOSITION 64; THE   \n",
       "1                 1386560  ADULT USE CAMPAIGN FOR PROPOSITION 64; THE   \n",
       "2                 1386560  ADULT USE CAMPAIGN FOR PROPOSITION 64; THE   \n",
       "3                 1386560  ADULT USE CAMPAIGN FOR PROPOSITION 64; THE   \n",
       "4                 1386560  ADULT USE CAMPAIGN FOR PROPOSITION 64; THE   \n",
       "\n",
       "   calaccess_filing_id date_received contributor_lastname  \\\n",
       "0              2083796    2016-09-18              BERGMAN   \n",
       "1              2083796    2016-09-18                KAHLE   \n",
       "2              2083796    2016-07-15             MCDEVITT   \n",
       "3              2083796    2016-08-10      WARREN-SAMARIPA   \n",
       "4              2083796    2016-07-26      WARREN-SAMARIPA   \n",
       "\n",
       "  contributor_firstname contributor_city contributor_state contributor_zip  \\\n",
       "0              GRETCHEN    SPRING VALLEY                CA           91978   \n",
       "1                 MYRNA        SAN DIEGO                CA           92109   \n",
       "2                   LEO        ESCONDIDO                CA           92025   \n",
       "3             STEPHANIE        SAN DIEGO                CA           92116   \n",
       "4             STEPHANIE        SAN DIEGO                CA           92116   \n",
       "\n",
       "        contributor_employer contributor_occupation  \\\n",
       "0                 A NEW PATH     EXECUTIVE DIRECTOR   \n",
       "1   NATIONAL SCHOOL DISTRICT                TEACHER   \n",
       "2              LIFE IONIZERS    SEO/CONTENT MANAGER   \n",
       "3  STEPHANIE WARREN SAMARIPA           ENTREPRENEUR   \n",
       "4  STEPHANIE WARREN SAMARIPA           ENTREPRENEUR   \n",
       "\n",
       "   contributor_is_self_employed  amount  \n",
       "0                         False    84.0  \n",
       "1                         False    35.0  \n",
       "2                         False   198.0  \n",
       "3                         False   -50.0  \n",
       "4                          True    50.0  "
      ]
     },
     "execution_count": 29,
     "metadata": {},
     "output_type": "execute_result"
    }
   ],
   "source": [
    "contribs.head()\n"
   ]
  },
  {
   "cell_type": "code",
   "execution_count": 31,
   "metadata": {},
   "outputs": [],
   "source": [
    "merged = pd.merge(prop, contribs, on=\"calaccess_committee_id\")"
   ]
  },
  {
   "cell_type": "raw",
   "metadata": {},
   "source": []
  },
  {
   "cell_type": "code",
   "execution_count": 34,
   "metadata": {},
   "outputs": [
    {
     "data": {
      "text/html": [
       "<div>\n",
       "<style scoped>\n",
       "    .dataframe tbody tr th:only-of-type {\n",
       "        vertical-align: middle;\n",
       "    }\n",
       "\n",
       "    .dataframe tbody tr th {\n",
       "        vertical-align: top;\n",
       "    }\n",
       "\n",
       "    .dataframe thead th {\n",
       "        text-align: right;\n",
       "    }\n",
       "</style>\n",
       "<table border=\"1\" class=\"dataframe\">\n",
       "  <thead>\n",
       "    <tr style=\"text-align: right;\">\n",
       "      <th></th>\n",
       "      <th>ocd_prop_id</th>\n",
       "      <th>calaccess_prop_id</th>\n",
       "      <th>ccdc_prop_id</th>\n",
       "      <th>prop_name</th>\n",
       "      <th>ccdc_committee_id</th>\n",
       "      <th>calaccess_committee_id</th>\n",
       "      <th>committee_name_x</th>\n",
       "      <th>committee_position</th>\n",
       "      <th>committee_name_y</th>\n",
       "      <th>calaccess_filing_id</th>\n",
       "      <th>date_received</th>\n",
       "      <th>contributor_lastname</th>\n",
       "      <th>contributor_firstname</th>\n",
       "      <th>contributor_city</th>\n",
       "      <th>contributor_state</th>\n",
       "      <th>contributor_zip</th>\n",
       "      <th>contributor_employer</th>\n",
       "      <th>contributor_occupation</th>\n",
       "      <th>contributor_is_self_employed</th>\n",
       "      <th>amount</th>\n",
       "    </tr>\n",
       "  </thead>\n",
       "  <tbody>\n",
       "    <tr>\n",
       "      <td>0</td>\n",
       "      <td>ocd-contest/232cb72c-1b11-4293-b4e2-a181e80d172e</td>\n",
       "      <td>1381868</td>\n",
       "      <td>83</td>\n",
       "      <td>PROPOSITION 064- MARIJUANA LEGALIZATION. INITI...</td>\n",
       "      <td>456</td>\n",
       "      <td>1381808</td>\n",
       "      <td>YES ON 64, CALIFORNIANS TO CONTROL, REGULATE A...</td>\n",
       "      <td>SUPPORT</td>\n",
       "      <td>YES ON 64, CALIFORNIANS TO CONTROL, REGULATE A...</td>\n",
       "      <td>2038581</td>\n",
       "      <td>2016-02-04</td>\n",
       "      <td>BRADEN QUIGLEY</td>\n",
       "      <td>LAURA</td>\n",
       "      <td>SACRAMENTO</td>\n",
       "      <td>CA</td>\n",
       "      <td>95825</td>\n",
       "      <td>LBQ STRATEGIES</td>\n",
       "      <td>CONSULTANT</td>\n",
       "      <td>False</td>\n",
       "      <td>100.0</td>\n",
       "    </tr>\n",
       "    <tr>\n",
       "      <td>1</td>\n",
       "      <td>ocd-contest/232cb72c-1b11-4293-b4e2-a181e80d172e</td>\n",
       "      <td>1381868</td>\n",
       "      <td>83</td>\n",
       "      <td>PROPOSITION 064- MARIJUANA LEGALIZATION. INITI...</td>\n",
       "      <td>456</td>\n",
       "      <td>1381808</td>\n",
       "      <td>YES ON 64, CALIFORNIANS TO CONTROL, REGULATE A...</td>\n",
       "      <td>SUPPORT</td>\n",
       "      <td>YES ON 64, CALIFORNIANS TO CONTROL, REGULATE A...</td>\n",
       "      <td>2038581</td>\n",
       "      <td>2016-01-05</td>\n",
       "      <td>CALIFORNIANS FOR SENSIBLE REFORM, SPONSORED BY...</td>\n",
       "      <td>NaN</td>\n",
       "      <td>IRVINE</td>\n",
       "      <td>CA</td>\n",
       "      <td>92618</td>\n",
       "      <td>NaN</td>\n",
       "      <td>NaN</td>\n",
       "      <td>False</td>\n",
       "      <td>250000.0</td>\n",
       "    </tr>\n",
       "    <tr>\n",
       "      <td>2</td>\n",
       "      <td>ocd-contest/232cb72c-1b11-4293-b4e2-a181e80d172e</td>\n",
       "      <td>1381868</td>\n",
       "      <td>83</td>\n",
       "      <td>PROPOSITION 064- MARIJUANA LEGALIZATION. INITI...</td>\n",
       "      <td>456</td>\n",
       "      <td>1381808</td>\n",
       "      <td>YES ON 64, CALIFORNIANS TO CONTROL, REGULATE A...</td>\n",
       "      <td>SUPPORT</td>\n",
       "      <td>YES ON 64, CALIFORNIANS TO CONTROL, REGULATE A...</td>\n",
       "      <td>2038581</td>\n",
       "      <td>2016-01-29</td>\n",
       "      <td>CALIFORNIANS FOR SENSIBLE REFORM, SPONSORED BY...</td>\n",
       "      <td>NaN</td>\n",
       "      <td>IRVINE</td>\n",
       "      <td>CA</td>\n",
       "      <td>92618</td>\n",
       "      <td>NaN</td>\n",
       "      <td>NaN</td>\n",
       "      <td>False</td>\n",
       "      <td>250000.0</td>\n",
       "    </tr>\n",
       "    <tr>\n",
       "      <td>3</td>\n",
       "      <td>ocd-contest/232cb72c-1b11-4293-b4e2-a181e80d172e</td>\n",
       "      <td>1381868</td>\n",
       "      <td>83</td>\n",
       "      <td>PROPOSITION 064- MARIJUANA LEGALIZATION. INITI...</td>\n",
       "      <td>456</td>\n",
       "      <td>1381808</td>\n",
       "      <td>YES ON 64, CALIFORNIANS TO CONTROL, REGULATE A...</td>\n",
       "      <td>SUPPORT</td>\n",
       "      <td>YES ON 64, CALIFORNIANS TO CONTROL, REGULATE A...</td>\n",
       "      <td>2038581</td>\n",
       "      <td>2016-03-28</td>\n",
       "      <td>CALIFORNIANS FOR SENSIBLE REFORM, SPONSORED BY...</td>\n",
       "      <td>NaN</td>\n",
       "      <td>IRVINE</td>\n",
       "      <td>CA</td>\n",
       "      <td>92618</td>\n",
       "      <td>NaN</td>\n",
       "      <td>NaN</td>\n",
       "      <td>False</td>\n",
       "      <td>250000.0</td>\n",
       "    </tr>\n",
       "    <tr>\n",
       "      <td>4</td>\n",
       "      <td>ocd-contest/232cb72c-1b11-4293-b4e2-a181e80d172e</td>\n",
       "      <td>1381868</td>\n",
       "      <td>83</td>\n",
       "      <td>PROPOSITION 064- MARIJUANA LEGALIZATION. INITI...</td>\n",
       "      <td>456</td>\n",
       "      <td>1381808</td>\n",
       "      <td>YES ON 64, CALIFORNIANS TO CONTROL, REGULATE A...</td>\n",
       "      <td>SUPPORT</td>\n",
       "      <td>YES ON 64, CALIFORNIANS TO CONTROL, REGULATE A...</td>\n",
       "      <td>2038581</td>\n",
       "      <td>2016-01-05</td>\n",
       "      <td>DRUG POLICY ACTION</td>\n",
       "      <td>NaN</td>\n",
       "      <td>NEW YORK</td>\n",
       "      <td>NY</td>\n",
       "      <td>10001</td>\n",
       "      <td>NaN</td>\n",
       "      <td>NaN</td>\n",
       "      <td>False</td>\n",
       "      <td>250000.0</td>\n",
       "    </tr>\n",
       "  </tbody>\n",
       "</table>\n",
       "</div>"
      ],
      "text/plain": [
       "                                        ocd_prop_id  calaccess_prop_id  \\\n",
       "0  ocd-contest/232cb72c-1b11-4293-b4e2-a181e80d172e            1381868   \n",
       "1  ocd-contest/232cb72c-1b11-4293-b4e2-a181e80d172e            1381868   \n",
       "2  ocd-contest/232cb72c-1b11-4293-b4e2-a181e80d172e            1381868   \n",
       "3  ocd-contest/232cb72c-1b11-4293-b4e2-a181e80d172e            1381868   \n",
       "4  ocd-contest/232cb72c-1b11-4293-b4e2-a181e80d172e            1381868   \n",
       "\n",
       "   ccdc_prop_id                                          prop_name  \\\n",
       "0            83  PROPOSITION 064- MARIJUANA LEGALIZATION. INITI...   \n",
       "1            83  PROPOSITION 064- MARIJUANA LEGALIZATION. INITI...   \n",
       "2            83  PROPOSITION 064- MARIJUANA LEGALIZATION. INITI...   \n",
       "3            83  PROPOSITION 064- MARIJUANA LEGALIZATION. INITI...   \n",
       "4            83  PROPOSITION 064- MARIJUANA LEGALIZATION. INITI...   \n",
       "\n",
       "   ccdc_committee_id  calaccess_committee_id  \\\n",
       "0                456                 1381808   \n",
       "1                456                 1381808   \n",
       "2                456                 1381808   \n",
       "3                456                 1381808   \n",
       "4                456                 1381808   \n",
       "\n",
       "                                    committee_name_x committee_position  \\\n",
       "0  YES ON 64, CALIFORNIANS TO CONTROL, REGULATE A...            SUPPORT   \n",
       "1  YES ON 64, CALIFORNIANS TO CONTROL, REGULATE A...            SUPPORT   \n",
       "2  YES ON 64, CALIFORNIANS TO CONTROL, REGULATE A...            SUPPORT   \n",
       "3  YES ON 64, CALIFORNIANS TO CONTROL, REGULATE A...            SUPPORT   \n",
       "4  YES ON 64, CALIFORNIANS TO CONTROL, REGULATE A...            SUPPORT   \n",
       "\n",
       "                                    committee_name_y  calaccess_filing_id  \\\n",
       "0  YES ON 64, CALIFORNIANS TO CONTROL, REGULATE A...              2038581   \n",
       "1  YES ON 64, CALIFORNIANS TO CONTROL, REGULATE A...              2038581   \n",
       "2  YES ON 64, CALIFORNIANS TO CONTROL, REGULATE A...              2038581   \n",
       "3  YES ON 64, CALIFORNIANS TO CONTROL, REGULATE A...              2038581   \n",
       "4  YES ON 64, CALIFORNIANS TO CONTROL, REGULATE A...              2038581   \n",
       "\n",
       "  date_received                               contributor_lastname  \\\n",
       "0    2016-02-04                                     BRADEN QUIGLEY   \n",
       "1    2016-01-05  CALIFORNIANS FOR SENSIBLE REFORM, SPONSORED BY...   \n",
       "2    2016-01-29  CALIFORNIANS FOR SENSIBLE REFORM, SPONSORED BY...   \n",
       "3    2016-03-28  CALIFORNIANS FOR SENSIBLE REFORM, SPONSORED BY...   \n",
       "4    2016-01-05                                 DRUG POLICY ACTION   \n",
       "\n",
       "  contributor_firstname contributor_city contributor_state contributor_zip  \\\n",
       "0                 LAURA       SACRAMENTO                CA           95825   \n",
       "1                   NaN           IRVINE                CA           92618   \n",
       "2                   NaN           IRVINE                CA           92618   \n",
       "3                   NaN           IRVINE                CA           92618   \n",
       "4                   NaN         NEW YORK                NY           10001   \n",
       "\n",
       "  contributor_employer contributor_occupation  contributor_is_self_employed  \\\n",
       "0       LBQ STRATEGIES             CONSULTANT                         False   \n",
       "1                  NaN                    NaN                         False   \n",
       "2                  NaN                    NaN                         False   \n",
       "3                  NaN                    NaN                         False   \n",
       "4                  NaN                    NaN                         False   \n",
       "\n",
       "     amount  \n",
       "0     100.0  \n",
       "1  250000.0  \n",
       "2  250000.0  \n",
       "3  250000.0  \n",
       "4  250000.0  "
      ]
     },
     "execution_count": 34,
     "metadata": {},
     "output_type": "execute_result"
    }
   ],
   "source": [
    "merged.head()"
   ]
  },
  {
   "cell_type": "code",
   "execution_count": 35,
   "metadata": {},
   "outputs": [
    {
     "name": "stdout",
     "output_type": "stream",
     "text": [
      "<class 'pandas.core.frame.DataFrame'>\n",
      "Int64Index: 860 entries, 0 to 859\n",
      "Data columns (total 20 columns):\n",
      "ocd_prop_id                     860 non-null object\n",
      "calaccess_prop_id               860 non-null int64\n",
      "ccdc_prop_id                    860 non-null int64\n",
      "prop_name                       860 non-null object\n",
      "ccdc_committee_id               860 non-null int64\n",
      "calaccess_committee_id          860 non-null int64\n",
      "committee_name_x                860 non-null object\n",
      "committee_position              860 non-null object\n",
      "committee_name_y                860 non-null object\n",
      "calaccess_filing_id             860 non-null int64\n",
      "date_received                   860 non-null object\n",
      "contributor_lastname            860 non-null object\n",
      "contributor_firstname           750 non-null object\n",
      "contributor_city                860 non-null object\n",
      "contributor_state               860 non-null object\n",
      "contributor_zip                 860 non-null object\n",
      "contributor_employer            657 non-null object\n",
      "contributor_occupation          742 non-null object\n",
      "contributor_is_self_employed    860 non-null bool\n",
      "amount                          860 non-null float64\n",
      "dtypes: bool(1), float64(1), int64(5), object(13)\n",
      "memory usage: 135.2+ KB\n"
     ]
    }
   ],
   "source": [
    "merged.info()"
   ]
  },
  {
   "cell_type": "code",
   "execution_count": 42,
   "metadata": {},
   "outputs": [
    {
     "name": "stdout",
     "output_type": "stream",
     "text": [
      "35,177,017.64\n"
     ]
    }
   ],
   "source": [
    "print(f'{(merged.amount.sum()):,}')"
   ]
  },
  {
   "cell_type": "code",
   "execution_count": 43,
   "metadata": {},
   "outputs": [
    {
     "data": {
      "text/plain": [
       "SUPPORT    762\n",
       "OPPOSE      98\n",
       "Name: committee_position, dtype: int64"
      ]
     },
     "execution_count": 43,
     "metadata": {},
     "output_type": "execute_result"
    }
   ],
   "source": [
    "merged.committee_position.value_counts()"
   ]
  },
  {
   "cell_type": "code",
   "execution_count": 44,
   "metadata": {},
   "outputs": [],
   "source": [
    "support = merged[merged.committee_position ==\"SUPPORT\"]\n"
   ]
  },
  {
   "cell_type": "code",
   "execution_count": 45,
   "metadata": {},
   "outputs": [],
   "source": [
    "oppose = merged[merged.committee_position ==\"OPPOSE\"]"
   ]
  },
  {
   "cell_type": "code",
   "execution_count": 47,
   "metadata": {},
   "outputs": [
    {
     "name": "stdout",
     "output_type": "stream",
     "text": [
      "32675806.0\n"
     ]
    }
   ],
   "source": [
    "print(support.amount.sum())"
   ]
  },
  {
   "cell_type": "code",
   "execution_count": 48,
   "metadata": {},
   "outputs": [
    {
     "name": "stdout",
     "output_type": "stream",
     "text": [
      "2501211.64\n"
     ]
    }
   ],
   "source": [
    "print(oppose.amount.sum())"
   ]
  },
  {
   "cell_type": "code",
   "execution_count": 49,
   "metadata": {
    "scrolled": true
   },
   "outputs": [
    {
     "data": {
      "text/plain": [
       "0.9288964270479867"
      ]
     },
     "execution_count": 49,
     "metadata": {},
     "output_type": "execute_result"
    }
   ],
   "source": [
    "support.amount.sum()/merged.amount.sum()"
   ]
  },
  {
   "cell_type": "code",
   "execution_count": 54,
   "metadata": {},
   "outputs": [
    {
     "data": {
      "text/html": [
       "<div>\n",
       "<style scoped>\n",
       "    .dataframe tbody tr th:only-of-type {\n",
       "        vertical-align: middle;\n",
       "    }\n",
       "\n",
       "    .dataframe tbody tr th {\n",
       "        vertical-align: top;\n",
       "    }\n",
       "\n",
       "    .dataframe thead th {\n",
       "        text-align: right;\n",
       "    }\n",
       "</style>\n",
       "<table border=\"1\" class=\"dataframe\">\n",
       "  <thead>\n",
       "    <tr style=\"text-align: right;\">\n",
       "      <th></th>\n",
       "      <th>committee_name_x</th>\n",
       "      <th>amount</th>\n",
       "    </tr>\n",
       "  </thead>\n",
       "  <tbody>\n",
       "    <tr>\n",
       "      <td>10</td>\n",
       "      <td>YES ON 64, CALIFORNIANS TO CONTROL, REGULATE A...</td>\n",
       "      <td>15734047.00</td>\n",
       "    </tr>\n",
       "    <tr>\n",
       "      <td>4</td>\n",
       "      <td>FUND FOR POLICY REFORM (NONPROFIT 501(C)(4))</td>\n",
       "      <td>6140000.00</td>\n",
       "    </tr>\n",
       "    <tr>\n",
       "      <td>3</td>\n",
       "      <td>DRUG POLICY ACTION - NON PROFIT 501C4, YES ON ...</td>\n",
       "      <td>4470000.00</td>\n",
       "    </tr>\n",
       "    <tr>\n",
       "      <td>7</td>\n",
       "      <td>NEW APPROACH PAC (MPO)</td>\n",
       "      <td>3865000.00</td>\n",
       "    </tr>\n",
       "    <tr>\n",
       "      <td>9</td>\n",
       "      <td>SAM ACTION, INC., A COMMITTEE AGAINST PROPOSIT...</td>\n",
       "      <td>1364000.00</td>\n",
       "    </tr>\n",
       "    <tr>\n",
       "      <td>8</td>\n",
       "      <td>PUBLIC AND MENTAL HEALTH ADVOCATES AGAINST 64,...</td>\n",
       "      <td>1130930.00</td>\n",
       "    </tr>\n",
       "    <tr>\n",
       "      <td>1</td>\n",
       "      <td>CALIFORNIANS FOR RESPONSIBLE MARIJUANA REFORM,...</td>\n",
       "      <td>860470.00</td>\n",
       "    </tr>\n",
       "    <tr>\n",
       "      <td>2</td>\n",
       "      <td>CALIFORNIANS FOR SENSIBLE REFORM, SPONSORED BY...</td>\n",
       "      <td>850000.00</td>\n",
       "    </tr>\n",
       "    <tr>\n",
       "      <td>5</td>\n",
       "      <td>MARIJUANA POLICY PROJECT OF CALIFORNIA, YES ON 64</td>\n",
       "      <td>739200.00</td>\n",
       "    </tr>\n",
       "    <tr>\n",
       "      <td>0</td>\n",
       "      <td>ADULT USE CAMPAIGN FOR PROPOSITION 64; THE</td>\n",
       "      <td>17089.00</td>\n",
       "    </tr>\n",
       "    <tr>\n",
       "      <td>6</td>\n",
       "      <td>MOMS STRONG AGAINST PROP 64</td>\n",
       "      <td>6281.64</td>\n",
       "    </tr>\n",
       "  </tbody>\n",
       "</table>\n",
       "</div>"
      ],
      "text/plain": [
       "                                     committee_name_x       amount\n",
       "10  YES ON 64, CALIFORNIANS TO CONTROL, REGULATE A...  15734047.00\n",
       "4        FUND FOR POLICY REFORM (NONPROFIT 501(C)(4))   6140000.00\n",
       "3   DRUG POLICY ACTION - NON PROFIT 501C4, YES ON ...   4470000.00\n",
       "7                              NEW APPROACH PAC (MPO)   3865000.00\n",
       "9   SAM ACTION, INC., A COMMITTEE AGAINST PROPOSIT...   1364000.00\n",
       "8   PUBLIC AND MENTAL HEALTH ADVOCATES AGAINST 64,...   1130930.00\n",
       "1   CALIFORNIANS FOR RESPONSIBLE MARIJUANA REFORM,...    860470.00\n",
       "2   CALIFORNIANS FOR SENSIBLE REFORM, SPONSORED BY...    850000.00\n",
       "5   MARIJUANA POLICY PROJECT OF CALIFORNIA, YES ON 64    739200.00\n",
       "0          ADULT USE CAMPAIGN FOR PROPOSITION 64; THE     17089.00\n",
       "6                         MOMS STRONG AGAINST PROP 64      6281.64"
      ]
     },
     "execution_count": 54,
     "metadata": {},
     "output_type": "execute_result"
    }
   ],
   "source": [
    "merged.groupby(\"committee_name_x\").amount.sum().reset_index().sort_values(\"amount\", ascending=False)"
   ]
  },
  {
   "cell_type": "code",
   "execution_count": 55,
   "metadata": {},
   "outputs": [
    {
     "name": "stdout",
     "output_type": "stream",
     "text": [
      "['Ars', 'Science', 'Language']\n"
     ]
    }
   ],
   "source": [
    "courses = ['Ars', 'Science', 'Language']\n",
    "print(courses)"
   ]
  },
  {
   "cell_type": "code",
   "execution_count": 56,
   "metadata": {},
   "outputs": [],
   "source": [
    "courses.append('Math')"
   ]
  },
  {
   "cell_type": "code",
   "execution_count": 57,
   "metadata": {},
   "outputs": [
    {
     "name": "stdout",
     "output_type": "stream",
     "text": [
      "['Ars', 'Science', 'Language', 'Math']\n"
     ]
    }
   ],
   "source": [
    "print(courses)"
   ]
  },
  {
   "cell_type": "code",
   "execution_count": 58,
   "metadata": {},
   "outputs": [],
   "source": [
    "courses.insert(3,'Geo')"
   ]
  },
  {
   "cell_type": "code",
   "execution_count": 59,
   "metadata": {},
   "outputs": [
    {
     "name": "stdout",
     "output_type": "stream",
     "text": [
      "['Ars', 'Science', 'Language', 'Geo', 'Math']\n"
     ]
    }
   ],
   "source": [
    "print(courses)"
   ]
  },
  {
   "cell_type": "code",
   "execution_count": 60,
   "metadata": {},
   "outputs": [
    {
     "data": {
      "text/plain": [
       "'01234567'"
      ]
     },
     "execution_count": 60,
     "metadata": {},
     "output_type": "execute_result"
    }
   ],
   "source": [
    "test1=\"01234567\"\n",
    "test1"
   ]
  },
  {
   "cell_type": "code",
   "execution_count": 63,
   "metadata": {},
   "outputs": [
    {
     "data": {
      "text/plain": [
       "'1357'"
      ]
     },
     "execution_count": 63,
     "metadata": {},
     "output_type": "execute_result"
    }
   ],
   "source": [
    "test1[1::2]"
   ]
  },
  {
   "cell_type": "code",
   "execution_count": 64,
   "metadata": {},
   "outputs": [
    {
     "data": {
      "text/plain": [
       "2"
      ]
     },
     "execution_count": 64,
     "metadata": {},
     "output_type": "execute_result"
    }
   ],
   "source": [
    "test1.find('23')"
   ]
  },
  {
   "cell_type": "code",
   "execution_count": 66,
   "metadata": {},
   "outputs": [],
   "source": [
    "list1= ['test', 1, 5.5, 8, 10]\n",
    "list2 = ['pop',5]\n",
    "list1.append(['pop',5]) "
   ]
  },
  {
   "cell_type": "code",
   "execution_count": 67,
   "metadata": {},
   "outputs": [
    {
     "name": "stdout",
     "output_type": "stream",
     "text": [
      "['test', 1, 5.5, 8, 10, ['pop', 5]]\n"
     ]
    }
   ],
   "source": [
    "print(list1)"
   ]
  },
  {
   "cell_type": "code",
   "execution_count": 71,
   "metadata": {},
   "outputs": [],
   "source": [
    "list3=list1 + list2"
   ]
  },
  {
   "cell_type": "code",
   "execution_count": 72,
   "metadata": {},
   "outputs": [
    {
     "name": "stdout",
     "output_type": "stream",
     "text": [
      "['test', 1, 5.5, 8, 10, ['pop', 5], 'pop', 5]\n"
     ]
    }
   ],
   "source": [
    "print(list3)"
   ]
  },
  {
   "cell_type": "code",
   "execution_count": 74,
   "metadata": {},
   "outputs": [],
   "source": [
    "list1= ['test', 1, 5.5, 8, 10]\n",
    "list3 = list1.extend(list2)"
   ]
  },
  {
   "cell_type": "code",
   "execution_count": 75,
   "metadata": {},
   "outputs": [
    {
     "name": "stdout",
     "output_type": "stream",
     "text": [
      "None\n"
     ]
    }
   ],
   "source": [
    "print(list3)"
   ]
  },
  {
   "cell_type": "code",
   "execution_count": 76,
   "metadata": {},
   "outputs": [
    {
     "name": "stdout",
     "output_type": "stream",
     "text": [
      "['pop', 5]\n"
     ]
    }
   ],
   "source": [
    "print(list2)"
   ]
  },
  {
   "cell_type": "code",
   "execution_count": 83,
   "metadata": {},
   "outputs": [],
   "source": [
    "volumeA = 100\n",
    "volumeB = 20\n",
    "volumeC = 10\n",
    "\n",
    "vol = []\n",
    "#vol.extend((volumeA, volumeB, volumeC))\n",
    "\n"
   ]
  },
  {
   "cell_type": "code",
   "execution_count": 78,
   "metadata": {},
   "outputs": [
    {
     "name": "stdout",
     "output_type": "stream",
     "text": [
      "[100, 20, 10]\n"
     ]
    }
   ],
   "source": [
    "print(vol)"
   ]
  },
  {
   "cell_type": "code",
   "execution_count": 79,
   "metadata": {},
   "outputs": [],
   "source": [
    "vol.extend(value for name, value in locals().items() if name.startswith('volume'))"
   ]
  },
  {
   "cell_type": "code",
   "execution_count": 80,
   "metadata": {},
   "outputs": [
    {
     "name": "stdout",
     "output_type": "stream",
     "text": [
      "[100, 20, 10, 100, 20, 10]\n"
     ]
    }
   ],
   "source": [
    "print(vol)"
   ]
  },
  {
   "cell_type": "code",
   "execution_count": 86,
   "metadata": {},
   "outputs": [
    {
     "ename": "SyntaxError",
     "evalue": "Generator expression must be parenthesized (<ipython-input-86-91d2a9ec49e5>, line 1)",
     "output_type": "error",
     "traceback": [
      "\u001b[1;36m  File \u001b[1;32m\"<ipython-input-86-91d2a9ec49e5>\"\u001b[1;36m, line \u001b[1;32m1\u001b[0m\n\u001b[1;33m    vol.extend(value for name, value in sorted(locals().items(),\u001b[0m\n\u001b[1;37m              ^\u001b[0m\n\u001b[1;31mSyntaxError\u001b[0m\u001b[1;31m:\u001b[0m Generator expression must be parenthesized\n"
     ]
    }
   ],
   "source": [
    "vol.extend(value for name, value in sorted(locals().items(), \n",
    "key=lambda item: item[0], ) if name.startswith('volume')key=lambda item: item[0], ) if name.startswith('volume')"
   ]
  },
  {
   "cell_type": "code",
   "execution_count": 85,
   "metadata": {},
   "outputs": [
    {
     "name": "stdout",
     "output_type": "stream",
     "text": [
      "[100, 20, 10]\n"
     ]
    }
   ],
   "source": [
    "print(vol)"
   ]
  },
  {
   "cell_type": "code",
   "execution_count": 88,
   "metadata": {},
   "outputs": [
    {
     "ename": "SyntaxError",
     "evalue": "positional argument follows keyword argument (<ipython-input-88-fe1d18418570>, line 2)",
     "output_type": "error",
     "traceback": [
      "\u001b[1;36m  File \u001b[1;32m\"<ipython-input-88-fe1d18418570>\"\u001b[1;36m, line \u001b[1;32m2\u001b[0m\n\u001b[1;33m    vol.extend(value for name, value in sorted(locals().items(), key=lambda item: item[0],reverse) if name.startswith('volume'))\u001b[0m\n\u001b[1;37m                                                                                         ^\u001b[0m\n\u001b[1;31mSyntaxError\u001b[0m\u001b[1;31m:\u001b[0m positional argument follows keyword argument\n"
     ]
    }
   ],
   "source": [
    "vol =[]\n",
    "vol.extend(value for name, value in sorted(locals().items(), key=lambda item: item[0],reverse) if name.startswith('volume'))"
   ]
  },
  {
   "cell_type": "code",
   "execution_count": 90,
   "metadata": {},
   "outputs": [],
   "source": [
    "vol.extend(value for name, value in sorted(locals().items(), key=lambda item: item[0],\n",
    "                                           reverse=True) if name.startswith('volume'))"
   ]
  },
  {
   "cell_type": "code",
   "execution_count": 91,
   "metadata": {},
   "outputs": [
    {
     "name": "stdout",
     "output_type": "stream",
     "text": [
      "[10, 20, 100]\n"
     ]
    }
   ],
   "source": [
    "print(vol)"
   ]
  },
  {
   "cell_type": "code",
   "execution_count": 92,
   "metadata": {},
   "outputs": [],
   "source": [
    "L = [\"cccc\", \"b\", \"dd\", \"aaa\"] "
   ]
  },
  {
   "cell_type": "code",
   "execution_count": 95,
   "metadata": {},
   "outputs": [
    {
     "name": "stdout",
     "output_type": "stream",
     "text": [
      "Normal sort : ['aaa', 'b', 'cccc', 'dd']\n"
     ]
    }
   ],
   "source": [
    "print (\"Normal sort :\", sorted(L) )"
   ]
  },
  {
   "cell_type": "code",
   "execution_count": 96,
   "metadata": {},
   "outputs": [
    {
     "name": "stdout",
     "output_type": "stream",
     "text": [
      "['cccc', 'b', 'dd', 'aaa']\n"
     ]
    }
   ],
   "source": [
    "print(L)"
   ]
  },
  {
   "cell_type": "code",
   "execution_count": 97,
   "metadata": {},
   "outputs": [
    {
     "name": "stdout",
     "output_type": "stream",
     "text": [
      "sort with key ['b', 'dd', 'aaa', 'cccc']\n"
     ]
    }
   ],
   "source": [
    "print(\"sort with key\", sorted(L, key=len))"
   ]
  },
  {
   "cell_type": "code",
   "execution_count": 100,
   "metadata": {},
   "outputs": [],
   "source": [
    "def sorty(x):\n",
    "    return (x +'A')"
   ]
  },
  {
   "cell_type": "code",
   "execution_count": 101,
   "metadata": {},
   "outputs": [
    {
     "name": "stdout",
     "output_type": "stream",
     "text": [
      "sort with key ['aaa', 'b', 'cccc', 'dd']\n"
     ]
    }
   ],
   "source": [
    "print(\"sort with key\", sorted(L, key=sorty))"
   ]
  },
  {
   "cell_type": "code",
   "execution_count": 103,
   "metadata": {},
   "outputs": [
    {
     "data": {
      "text/plain": [
       "'aA'"
      ]
     },
     "execution_count": 103,
     "metadata": {},
     "output_type": "execute_result"
    }
   ],
   "source": [
    "sorty('a')"
   ]
  },
  {
   "cell_type": "code",
   "execution_count": 108,
   "metadata": {},
   "outputs": [
    {
     "name": "stdout",
     "output_type": "stream",
     "text": [
      "['cccc', 'b']\n"
     ]
    }
   ],
   "source": [
    "print(L)"
   ]
  },
  {
   "cell_type": "code",
   "execution_count": 105,
   "metadata": {},
   "outputs": [
    {
     "data": {
      "text/plain": [
       "'aaa'"
      ]
     },
     "execution_count": 105,
     "metadata": {},
     "output_type": "execute_result"
    }
   ],
   "source": [
    "L.pop(3)"
   ]
  },
  {
   "cell_type": "code",
   "execution_count": 107,
   "metadata": {},
   "outputs": [],
   "source": [
    "L.remove('dd')\n"
   ]
  },
  {
   "cell_type": "code",
   "execution_count": 109,
   "metadata": {},
   "outputs": [
    {
     "name": "stdout",
     "output_type": "stream",
     "text": [
      "\f",
      "\n"
     ]
    }
   ],
   "source": [
    "clear()"
   ]
  },
  {
   "cell_type": "code",
   "execution_count": null,
   "metadata": {},
   "outputs": [],
   "source": []
  }
 ],
 "metadata": {
  "kernelspec": {
   "display_name": "Python 3",
   "language": "python",
   "name": "python3"
  },
  "language_info": {
   "codemirror_mode": {
    "name": "ipython",
    "version": 3
   },
   "file_extension": ".py",
   "mimetype": "text/x-python",
   "name": "python",
   "nbconvert_exporter": "python",
   "pygments_lexer": "ipython3",
   "version": "3.7.4"
  }
 },
 "nbformat": 4,
 "nbformat_minor": 2
}
